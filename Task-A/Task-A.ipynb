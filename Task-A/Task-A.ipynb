{
 "cells": [
  {
   "cell_type": "code",
   "execution_count": 1,
   "metadata": {
    "_cell_guid": "b1076dfc-b9ad-4769-8c92-a6c4dae69d19",
    "_uuid": "8f2839f25d086af736a60e9eeb907d3b93b6e0e5",
    "execution": {
     "iopub.execute_input": "2025-06-27T13:37:35.229413Z",
     "iopub.status.busy": "2025-06-27T13:37:35.228753Z",
     "iopub.status.idle": "2025-06-27T13:37:43.929483Z",
     "shell.execute_reply": "2025-06-27T13:37:43.928759Z",
     "shell.execute_reply.started": "2025-06-27T13:37:35.229390Z"
    },
    "trusted": true
   },
   "outputs": [],
   "source": [
    "import os\n",
    "import torch\n",
    "import torch.nn as nn\n",
    "from torchvision import datasets, transforms, models\n",
    "from torch.utils.data import DataLoader\n",
    "from sklearn.metrics import classification_report, confusion_matrix\n",
    "import matplotlib.pyplot as plt\n",
    "import seaborn as sns\n",
    "import numpy as np"
   ]
  },
  {
   "cell_type": "code",
   "execution_count": 2,
   "metadata": {
    "execution": {
     "iopub.execute_input": "2025-06-27T13:37:43.931063Z",
     "iopub.status.busy": "2025-06-27T13:37:43.930665Z",
     "iopub.status.idle": "2025-06-27T13:37:44.020808Z",
     "shell.execute_reply": "2025-06-27T13:37:44.020222Z",
     "shell.execute_reply.started": "2025-06-27T13:37:43.931036Z"
    },
    "trusted": true
   },
   "outputs": [
    {
     "name": "stdout",
     "output_type": "stream",
     "text": [
      "Using device: cuda\n"
     ]
    }
   ],
   "source": [
    "import torch\n",
    "\n",
    "device = torch.device(\"cuda\" if torch.cuda.is_available() else \"cpu\")\n",
    "print(\"Using device:\", device)"
   ]
  },
  {
   "cell_type": "code",
   "execution_count": 3,
   "metadata": {
    "execution": {
     "iopub.execute_input": "2025-06-27T13:37:44.022034Z",
     "iopub.status.busy": "2025-06-27T13:37:44.021803Z",
     "iopub.status.idle": "2025-06-27T13:37:44.053010Z",
     "shell.execute_reply": "2025-06-27T13:37:44.052348Z",
     "shell.execute_reply.started": "2025-06-27T13:37:44.022007Z"
    },
    "trusted": true
   },
   "outputs": [],
   "source": [
    "train_path = \"/kaggle/input/comsys/Comys_Hackathon5/Task_A/train\"\n",
    "val_path = \"/kaggle/input/comsys/Comys_Hackathon5/Task_A/val\"\n",
    "device = torch.device(\"cuda\" if torch.cuda.is_available() else \"cpu\")\n"
   ]
  },
  {
   "cell_type": "code",
   "execution_count": 4,
   "metadata": {
    "execution": {
     "iopub.execute_input": "2025-06-27T13:37:44.054314Z",
     "iopub.status.busy": "2025-06-27T13:37:44.054094Z",
     "iopub.status.idle": "2025-06-27T13:37:44.068904Z",
     "shell.execute_reply": "2025-06-27T13:37:44.068214Z",
     "shell.execute_reply.started": "2025-06-27T13:37:44.054296Z"
    },
    "trusted": true
   },
   "outputs": [],
   "source": [
    "train_transforms = transforms.Compose([\n",
    "transforms.Resize((224, 224)),\n",
    "transforms.RandomHorizontalFlip(),\n",
    "transforms.ColorJitter(brightness=0.2, contrast=0.2),\n",
    "transforms.ToTensor(),\n",
    "transforms.Normalize(mean=[0.485, 0.456, 0.406],\n",
    "std=[0.229, 0.224, 0.225])\n",
    "])\n",
    "\n",
    "val_transforms = transforms.Compose([\n",
    "    transforms.Resize((224, 224)),\n",
    "    transforms.ToTensor(),\n",
    "    transforms.Normalize(mean=[0.485, 0.456, 0.406],\n",
    "                         std=[0.229, 0.224, 0.225])\n",
    "])"
   ]
  },
  {
   "cell_type": "code",
   "execution_count": 5,
   "metadata": {
    "execution": {
     "iopub.execute_input": "2025-06-27T13:37:44.594887Z",
     "iopub.status.busy": "2025-06-27T13:37:44.594620Z",
     "iopub.status.idle": "2025-06-27T13:37:50.922453Z",
     "shell.execute_reply": "2025-06-27T13:37:50.921688Z",
     "shell.execute_reply.started": "2025-06-27T13:37:44.594867Z"
    },
    "trusted": true
   },
   "outputs": [],
   "source": [
    "train_dataset = datasets.ImageFolder(train_path, transform=train_transforms)\n",
    "val_dataset = datasets.ImageFolder(val_path, transform=val_transforms)\n",
    "\n",
    "train_loader = DataLoader(train_dataset, batch_size=32, shuffle=True)\n",
    "val_loader = DataLoader(val_dataset, batch_size=32, shuffle=False)\n"
   ]
  },
  {
   "cell_type": "code",
   "execution_count": 6,
   "metadata": {
    "execution": {
     "iopub.execute_input": "2025-06-27T13:37:50.924171Z",
     "iopub.status.busy": "2025-06-27T13:37:50.923879Z",
     "iopub.status.idle": "2025-06-27T13:37:52.384264Z",
     "shell.execute_reply": "2025-06-27T13:37:52.383506Z",
     "shell.execute_reply.started": "2025-06-27T13:37:50.924148Z"
    },
    "trusted": true
   },
   "outputs": [
    {
     "name": "stderr",
     "output_type": "stream",
     "text": [
      "/usr/local/lib/python3.11/dist-packages/torchvision/models/_utils.py:208: UserWarning: The parameter 'pretrained' is deprecated since 0.13 and may be removed in the future, please use 'weights' instead.\n",
      "  warnings.warn(\n",
      "/usr/local/lib/python3.11/dist-packages/torchvision/models/_utils.py:223: UserWarning: Arguments other than a weight enum or `None` for 'weights' are deprecated since 0.13 and may be removed in the future. The current behavior is equivalent to passing `weights=ResNet50_Weights.IMAGENET1K_V1`. You can also use `weights=ResNet50_Weights.DEFAULT` to get the most up-to-date weights.\n",
      "  warnings.warn(msg)\n",
      "Downloading: \"https://download.pytorch.org/models/resnet50-0676ba61.pth\" to /root/.cache/torch/hub/checkpoints/resnet50-0676ba61.pth\n",
      "100%|██████████| 97.8M/97.8M [00:00<00:00, 178MB/s] \n"
     ]
    }
   ],
   "source": [
    "import torch.nn as nn\n",
    "from torchvision import models\n",
    "\n",
    "model = models.resnet50(pretrained=True)\n",
    "for param in model.parameters():\n",
    "    param.requires_grad = False\n",
    "# for param in model.layer4.parameters():\n",
    "#     param.requires_grad = True\n",
    "\n",
    "model.fc = nn.Sequential(\n",
    "nn.Linear(model.fc.in_features, 256),\n",
    "nn.ReLU(),\n",
    "nn.Dropout(0.4),\n",
    "nn.Linear(256, 2)\n",
    ")\n",
    "\n",
    "model = model.to(device)\n",
    "\n",
    "# optimizer = torch.optim.Adam([\n",
    "#     {'params': model.fc.parameters(), 'lr': 1e-3},\n",
    "#     {'params': model.layer4.parameters(), 'lr': 1e-4}\n",
    "# ])\n",
    "\n",
    "# scheduler = torch.optim.lr_scheduler.ReduceLROnPlateau(optimizer, 'max', patience=3, factor=0.5)"
   ]
  },
  {
   "cell_type": "code",
   "execution_count": 7,
   "metadata": {
    "execution": {
     "iopub.execute_input": "2025-06-27T13:37:52.385249Z",
     "iopub.status.busy": "2025-06-27T13:37:52.384994Z",
     "iopub.status.idle": "2025-06-27T13:37:52.389536Z",
     "shell.execute_reply": "2025-06-27T13:37:52.388918Z",
     "shell.execute_reply.started": "2025-06-27T13:37:52.385226Z"
    },
    "trusted": true
   },
   "outputs": [],
   "source": [
    "criterion = nn.CrossEntropyLoss()\n",
    "optimizer = torch.optim.Adam(model.fc.parameters(), lr=1e-4)"
   ]
  },
  {
   "cell_type": "code",
   "execution_count": 10,
   "metadata": {
    "execution": {
     "iopub.execute_input": "2025-06-27T13:38:07.652737Z",
     "iopub.status.busy": "2025-06-27T13:38:07.652011Z",
     "iopub.status.idle": "2025-06-27T13:38:07.660072Z",
     "shell.execute_reply": "2025-06-27T13:38:07.659234Z",
     "shell.execute_reply.started": "2025-06-27T13:38:07.652713Z"
    },
    "trusted": true
   },
   "outputs": [],
   "source": [
    "def train_model(num_epochs=10):\n",
    "    for epoch in range(num_epochs):\n",
    "   \n",
    "        model.train()\n",
    "        running_loss, running_correct = 0.0, 0\n",
    "\n",
    "        for images, labels in train_loader:\n",
    "            images, labels = images.to(device), labels.to(device)\n",
    "\n",
    "            optimizer.zero_grad()\n",
    "            outputs = model(images)\n",
    "            loss = criterion(outputs, labels)\n",
    "            loss.backward()\n",
    "            optimizer.step()\n",
    "\n",
    "            _, preds = torch.max(outputs, 1)\n",
    "            running_loss += loss.item() * images.size(0)\n",
    "            running_correct += torch.sum(preds == labels.data)\n",
    "\n",
    "        epoch_loss = running_loss / len(train_dataset)\n",
    "        epoch_acc = running_correct.double() / len(train_dataset)\n",
    "\n",
    "       \n",
    "        model.eval()\n",
    "        val_running_loss, val_running_correct = 0.0, 0\n",
    "        with torch.no_grad():\n",
    "            for val_images, val_labels in val_loader:\n",
    "                val_images, val_labels = val_images.to(device), val_labels.to(device)\n",
    "                val_outputs = model(val_images)\n",
    "                val_loss = criterion(val_outputs, val_labels)\n",
    "\n",
    "                _, val_preds = torch.max(val_outputs, 1)\n",
    "                val_running_loss += val_loss.item() * val_images.size(0)\n",
    "                val_running_correct += torch.sum(val_preds == val_labels.data)\n",
    "\n",
    "        val_epoch_loss = val_running_loss / len(val_dataset)\n",
    "        val_epoch_acc = val_running_correct.double() / len(val_dataset)\n",
    "\n",
    "        print(\n",
    "            f\"Epoch [{epoch+1}/{num_epochs}], \"\n",
    "            f\"Loss: {epoch_loss:.4f}, Acc: {epoch_acc:.4f}, \"\n",
    "            f\"Val_Loss: {val_epoch_loss:.4f}, Val_Acc: {val_epoch_acc:.4f}\"\n",
    "        )"
   ]
  },
  {
   "cell_type": "code",
   "execution_count": 13,
   "metadata": {
    "execution": {
     "iopub.execute_input": "2025-06-27T13:56:06.780584Z",
     "iopub.status.busy": "2025-06-27T13:56:06.779901Z",
     "iopub.status.idle": "2025-06-27T14:00:17.431273Z",
     "shell.execute_reply": "2025-06-27T14:00:17.430674Z",
     "shell.execute_reply.started": "2025-06-27T13:56:06.780561Z"
    },
    "trusted": true
   },
   "outputs": [
    {
     "name": "stdout",
     "output_type": "stream",
     "text": [
      "Epoch [1/10], Loss: 0.1358, Acc: 0.9439, Val_Loss: 0.2170, Val_Acc: 0.9171\n",
      "Epoch [2/10], Loss: 0.1487, Acc: 0.9387, Val_Loss: 0.2189, Val_Acc: 0.9123\n",
      "Epoch [3/10], Loss: 0.1504, Acc: 0.9403, Val_Loss: 0.2349, Val_Acc: 0.9194\n",
      "Epoch [4/10], Loss: 0.1376, Acc: 0.9486, Val_Loss: 0.2221, Val_Acc: 0.9171\n",
      "Epoch [5/10], Loss: 0.1467, Acc: 0.9398, Val_Loss: 0.2202, Val_Acc: 0.9147\n",
      "Epoch [6/10], Loss: 0.1374, Acc: 0.9413, Val_Loss: 0.2625, Val_Acc: 0.9052\n",
      "Epoch [7/10], Loss: 0.1335, Acc: 0.9450, Val_Loss: 0.2169, Val_Acc: 0.9123\n",
      "Epoch [8/10], Loss: 0.1255, Acc: 0.9512, Val_Loss: 0.2114, Val_Acc: 0.9123\n",
      "Epoch [9/10], Loss: 0.1326, Acc: 0.9450, Val_Loss: 0.2119, Val_Acc: 0.9123\n",
      "Epoch [10/10], Loss: 0.1472, Acc: 0.9429, Val_Loss: 0.2185, Val_Acc: 0.9171\n"
     ]
    }
   ],
   "source": [
    "train_model(num_epochs=10)"
   ]
  },
  {
   "cell_type": "code",
   "execution_count": 14,
   "metadata": {
    "execution": {
     "iopub.execute_input": "2025-06-27T14:03:10.319773Z",
     "iopub.status.busy": "2025-06-27T14:03:10.319105Z",
     "iopub.status.idle": "2025-06-27T14:03:15.543505Z",
     "shell.execute_reply": "2025-06-27T14:03:15.542756Z",
     "shell.execute_reply.started": "2025-06-27T14:03:10.319751Z"
    },
    "trusted": true
   },
   "outputs": [
    {
     "name": "stdout",
     "output_type": "stream",
     "text": [
      "              precision    recall  f1-score   support\n",
      "\n",
      "      female       0.83      0.70      0.76        79\n",
      "        male       0.93      0.97      0.95       343\n",
      "\n",
      "    accuracy                           0.92       422\n",
      "   macro avg       0.88      0.83      0.85       422\n",
      "weighted avg       0.91      0.92      0.91       422\n",
      "\n"
     ]
    },
    {
     "data": {
      "image/png": "[encoded data removed]",
      "text/plain": [
       "<Figure size 600x500 with 2 Axes>"
      ]
     },
     "metadata": {},
     "output_type": "display_data"
    }
   ],
   "source": [
    "model.eval()\n",
    "y_true, y_pred = [], []\n",
    "\n",
    "with torch.no_grad():\n",
    "    for images, labels in val_loader:\n",
    "        images, labels = images.to(device), labels.to(device)\n",
    "        outputs = model(images)\n",
    "        _, preds = torch.max(outputs, 1)\n",
    "        y_true.extend(labels.cpu().numpy())\n",
    "        y_pred.extend(preds.cpu().numpy())\n",
    "\n",
    "print(classification_report(y_true, y_pred, target_names=train_dataset.classes))\n",
    "\n",
    "# Confusion Matrix\n",
    "cm = confusion_matrix(y_true, y_pred)\n",
    "plt.figure(figsize=(6,5))\n",
    "sns.heatmap(cm, annot=True, fmt=\"d\", xticklabels=train_dataset.classes, yticklabels=train_dataset.classes, cmap=\"Blues\")\n",
    "plt.xlabel(\"Predicted\")\n",
    "plt.ylabel(\"Actual\")\n",
    "plt.title(\"Confusion Matrix\")\n",
    "plt.show()\n",
    "\n",
    "\n",
    "\n",
    "torch.save(model, 'resnet50_finetuned_full2.pth')"
   ]
  }
 ],
 "metadata": {
  "kaggle": {
   "accelerator": "nvidiaTeslaT4",
   "dataSources": [
    {
     "datasetId": 7671325,
     "sourceId": 12180300,
     "sourceType": "datasetVersion"
    },
    {
     "sourceId": 245691295,
     "sourceType": "kernelVersion"
    }
   ],
   "dockerImageVersionId": 31040,
   "isGpuEnabled": true,
   "isInternetEnabled": true,
   "language": "python",
   "sourceType": "notebook"
  },
  "kernelspec": {
   "display_name": "Python 3",
   "language": "python",
   "name": "python3"
  },
  "language_info": {
   "codemirror_mode": {
    "name": "ipython",
    "version": 3
   },
   "file_extension": ".py",
   "mimetype": "text/x-python",
   "name": "python",
   "nbconvert_exporter": "python",
   "pygments_lexer": "ipython3",
   "version": "3.11.11"
  }
 },
 "nbformat": 4,
 "nbformat_minor": 4
}
